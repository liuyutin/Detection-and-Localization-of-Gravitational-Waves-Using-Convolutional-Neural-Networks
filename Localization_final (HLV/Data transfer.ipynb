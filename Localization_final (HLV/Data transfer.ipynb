{
 "cells": [
  {
   "cell_type": "code",
   "execution_count": 3,
   "metadata": {},
   "outputs": [],
   "source": [
    "import numpy as np\n",
    "train10 = np.load('X_4_28_1_train10mpc.npy')\n",
    "train20 = np.load('X_4_28_1_train20mpc.npy')\n",
    "train30 = np.load('X_4_28_1_train30mpc.npy')\n",
    "train40 = np.load('X_4_28_1_train40mpc.npy')\n",
    "train50 = np.load('X_4_28_1_train50mpc.npy')\n",
    "train60 = np.load('X_4_28_1_train60mpc.npy')\n",
    "train70 = np.load('X_4_28_1_train70mpc.npy')\n",
    "train80 = np.load('X_4_28_1_train80mpc.npy')\n",
    "train90 = np.load('X_4_28_1_train90mpc.npy')\n",
    "train100 = np.load('X_4_28_1_train100mpc.npy')\n",
    "train150 = np.load('X_4_28_1_train150mpc.npy')\n",
    "train200 = np.load('X_4_28_1_train200mpc.npy')\n",
    "\n",
    "test10 = np.load('X_4_28_1_test10mpc.npy')\n",
    "test20 = np.load('X_4_28_1_test20mpc.npy')\n",
    "test30 = np.load('X_4_28_1_test30mpc.npy')\n",
    "test40 = np.load('X_4_28_1_test40mpc.npy')\n",
    "test50 = np.load('X_4_28_1_test50mpc.npy')\n",
    "test60 = np.load('X_4_28_1_test60mpc.npy')\n",
    "test70 = np.load('X_4_28_1_test70mpc.npy')\n",
    "test80 = np.load('X_4_28_1_test80mpc.npy')\n",
    "test90 = np.load('X_4_28_1_test90mpc.npy')\n",
    "test100 = np.load('X_4_28_1_test100mpc.npy')\n",
    "test150 = np.load('X_4_28_1_test150mpc.npy')\n",
    "test200 = np.load('X_4_28_1_test200mpc.npy')\n"
   ]
  },
  {
   "cell_type": "code",
   "execution_count": 5,
   "metadata": {},
   "outputs": [],
   "source": [
    "X_6_26_train10mpc=[]\n",
    "X_6_26_train20mpc=[]\n",
    "X_6_26_train30mpc=[]\n",
    "X_6_26_train40mpc=[]\n",
    "X_6_26_train50mpc=[]\n",
    "X_6_26_train60mpc=[]\n",
    "X_6_26_train70mpc=[]\n",
    "X_6_26_train80mpc=[]\n",
    "X_6_26_train90mpc=[]\n",
    "X_6_26_train100mpc=[]\n",
    "X_6_26_train150mpc=[]\n",
    "X_6_26_train200mpc=[]\n",
    "\n",
    "X_6_26_test10mpc=[]\n",
    "X_6_26_test20mpc=[]\n",
    "X_6_26_test30mpc=[]\n",
    "X_6_26_test40mpc=[]\n",
    "X_6_26_test50mpc=[]\n",
    "X_6_26_test60mpc=[]\n",
    "X_6_26_test70mpc=[]\n",
    "X_6_26_test80mpc=[]\n",
    "X_6_26_test90mpc=[]\n",
    "X_6_26_test100mpc=[]\n",
    "X_6_26_test150mpc=[]\n",
    "X_6_26_test200mpc=[]\n"
   ]
  },
  {
   "cell_type": "code",
   "execution_count": 3,
   "metadata": {},
   "outputs": [],
   "source": [
    "for i in range(len(test10)):\n",
    "    X_6_26_train10mpc.append([train10[i][0],train10[i][1],train10[i][2]])\n",
    "X_6_26_train10mpc = np.array(X_6_26_train10mpc)\n",
    "X_6_26_train10mpc.shape\n",
    "np.save('X_6_26_train10mpc.npy', X_6_26_train10mpc)"
   ]
  },
  {
   "cell_type": "code",
   "execution_count": 4,
   "metadata": {},
   "outputs": [],
   "source": [
    "for i in range(len(test10)):\n",
    "    X_6_26_train20mpc.append([train20[i][0],train20[i][1],train20[i][2]])\n",
    "X_6_26_train20mpc = np.array(X_6_26_train20mpc)\n",
    "X_6_26_train20mpc.shape\n",
    "np.save('X_6_26_train20mpc.npy', X_6_26_train20mpc)"
   ]
  },
  {
   "cell_type": "code",
   "execution_count": 5,
   "metadata": {},
   "outputs": [],
   "source": [
    "for i in range(len(test10)):\n",
    "    X_6_26_train30mpc.append([train30[i][0],train30[i][1],train30[i][2]])\n",
    "X_6_26_train30mpc = np.array(X_6_26_train30mpc)\n",
    "X_6_26_train30mpc.shape\n",
    "np.save('X_6_26_train30mpc.npy', X_6_26_train30mpc)"
   ]
  },
  {
   "cell_type": "code",
   "execution_count": 6,
   "metadata": {},
   "outputs": [],
   "source": [
    "for i in range(len(test10)):\n",
    "    X_6_26_train40mpc.append([train40[i][0],train40[i][1],train40[i][2]])\n",
    "X_6_26_train40mpc = np.array(X_6_26_train40mpc)\n",
    "X_6_26_train40mpc.shape\n",
    "np.save('X_6_26_train40mpc.npy', X_6_26_train40mpc)"
   ]
  },
  {
   "cell_type": "code",
   "execution_count": 7,
   "metadata": {},
   "outputs": [],
   "source": [
    "for i in range(len(test10)):\n",
    "    X_6_26_train50mpc.append([train50[i][0],train50[i][1],train50[i][2]])\n",
    "X_6_26_train50mpc = np.array(X_6_26_train50mpc)\n",
    "X_6_26_train50mpc.shape\n",
    "np.save('X_6_26_train50mpc.npy', X_6_26_train50mpc)"
   ]
  },
  {
   "cell_type": "code",
   "execution_count": 8,
   "metadata": {},
   "outputs": [],
   "source": [
    "for i in range(len(test10)):\n",
    "    X_6_26_train60mpc.append([train60[i][0],train60[i][1],train60[i][2]])\n",
    "X_6_26_train60mpc = np.array(X_6_26_train60mpc)\n",
    "X_6_26_train60mpc.shape\n",
    "np.save('X_6_26_train60mpc.npy', X_6_26_train60mpc)"
   ]
  },
  {
   "cell_type": "code",
   "execution_count": 9,
   "metadata": {},
   "outputs": [],
   "source": [
    "for i in range(len(test10)):\n",
    "    X_6_26_train70mpc.append([train70[i][0],train70[i][1],train70[i][2]])\n",
    "X_6_26_train70mpc = np.array(X_6_26_train70mpc)\n",
    "X_6_26_train70mpc.shape\n",
    "np.save('X_6_26_train70mpc.npy', X_6_26_train70mpc)"
   ]
  },
  {
   "cell_type": "code",
   "execution_count": 10,
   "metadata": {},
   "outputs": [],
   "source": [
    "for i in range(len(test10)):\n",
    "    X_6_26_train80mpc.append([train80[i][0],train80[i][1],train80[i][2]])\n",
    "X_6_26_train80mpc = np.array(X_6_26_train80mpc)\n",
    "X_6_26_train80mpc.shape\n",
    "np.save('X_6_26_train80mpc.npy', X_6_26_train80mpc)"
   ]
  },
  {
   "cell_type": "code",
   "execution_count": 11,
   "metadata": {},
   "outputs": [],
   "source": [
    "for i in range(len(test10)):\n",
    "    X_6_26_train90mpc.append([train90[i][0],train90[i][1],train90[i][2]])\n",
    "X_6_26_train90mpc = np.array(X_6_26_train90mpc)\n",
    "X_6_26_train90mpc.shape\n",
    "np.save('X_6_26_train90mpc.npy', X_6_26_train90mpc)"
   ]
  },
  {
   "cell_type": "code",
   "execution_count": 12,
   "metadata": {},
   "outputs": [],
   "source": [
    "for i in range(len(test10)):\n",
    "    X_6_26_train100mpc.append([train100[i][0],train100[i][1],train100[i][2]])\n",
    "X_6_26_train100mpc = np.array(X_6_26_train100mpc)\n",
    "X_6_26_train100mpc.shape\n",
    "np.save('X_6_26_train100mpc.npy', X_6_26_train100mpc)"
   ]
  },
  {
   "cell_type": "code",
   "execution_count": 13,
   "metadata": {},
   "outputs": [],
   "source": [
    "for i in range(len(test10)):\n",
    "    X_6_26_train150mpc.append([train150[i][0],train150[i][1],train150[i][2]])\n",
    "X_6_26_train150mpc = np.array(X_6_26_train150mpc)\n",
    "X_6_26_train150mpc.shape\n",
    "np.save('X_6_26_train150mpc.npy', X_6_26_train150mpc)"
   ]
  },
  {
   "cell_type": "code",
   "execution_count": 6,
   "metadata": {},
   "outputs": [],
   "source": [
    "for i in range(len(test10)):\n",
    "    X_6_26_train200mpc.append([train200[i][0],train200[i][1],train200[i][2]])\n",
    "X_6_26_train200mpc = np.array(X_6_26_train200mpc)\n",
    "X_6_26_train200mpc.shape\n",
    "np.save('X_6_26_train200mpc.npy', X_6_26_train200mpc)"
   ]
  },
  {
   "cell_type": "code",
   "execution_count": 14,
   "metadata": {},
   "outputs": [],
   "source": [
    "for i in range(len(test10)):\n",
    "    X_6_26_test10mpc.append([test10[i][0],test10[i][1],test10[i][2]])\n",
    "X_6_26_test10mpc = np.array(X_6_26_test10mpc)\n",
    "X_6_26_test10mpc.shape\n",
    "np.save('X_6_26_test10mpc.npy', X_6_26_test10mpc)"
   ]
  },
  {
   "cell_type": "code",
   "execution_count": 15,
   "metadata": {},
   "outputs": [],
   "source": [
    "for i in range(len(test10)):\n",
    "    X_6_26_test20mpc.append([test20[i][0],test20[i][1],test20[i][2]])\n",
    "X_6_26_test20mpc = np.array(X_6_26_test20mpc)\n",
    "X_6_26_test20mpc.shape\n",
    "np.save('X_6_26_test20mpc.npy', X_6_26_test20mpc)"
   ]
  },
  {
   "cell_type": "code",
   "execution_count": 16,
   "metadata": {},
   "outputs": [],
   "source": [
    "for i in range(len(test10)):\n",
    "    X_6_26_test30mpc.append([test30[i][0],test30[i][1],test30[i][2]])\n",
    "X_6_26_test30mpc = np.array(X_6_26_test30mpc)\n",
    "X_6_26_test30mpc.shape\n",
    "np.save('X_6_26_test30mpc.npy', X_6_26_test30mpc)"
   ]
  },
  {
   "cell_type": "code",
   "execution_count": 17,
   "metadata": {},
   "outputs": [],
   "source": [
    "for i in range(len(test10)):\n",
    "    X_6_26_test40mpc.append([test40[i][0],test40[i][1],test40[i][2]])\n",
    "X_6_26_test40mpc = np.array(X_6_26_test40mpc)\n",
    "X_6_26_test40mpc.shape\n",
    "np.save('X_6_26_test40mpc.npy', X_6_26_test40mpc)"
   ]
  },
  {
   "cell_type": "code",
   "execution_count": 18,
   "metadata": {},
   "outputs": [],
   "source": [
    "for i in range(len(test10)):\n",
    "    X_6_26_test50mpc.append([test50[i][0],test50[i][1],test50[i][2]])\n",
    "X_6_26_test50mpc = np.array(X_6_26_test50mpc)\n",
    "X_6_26_test50mpc.shape\n",
    "np.save('X_6_26_test50mpc.npy', X_6_26_test50mpc)"
   ]
  },
  {
   "cell_type": "code",
   "execution_count": 19,
   "metadata": {},
   "outputs": [],
   "source": [
    "for i in range(len(test10)):\n",
    "    X_6_26_test60mpc.append([test60[i][0],test60[i][1],test60[i][2]])\n",
    "X_6_26_test60mpc = np.array(X_6_26_test60mpc)\n",
    "X_6_26_test60mpc.shape\n",
    "np.save('X_6_26_test60mpc.npy', X_6_26_test60mpc)"
   ]
  },
  {
   "cell_type": "code",
   "execution_count": 20,
   "metadata": {},
   "outputs": [],
   "source": [
    "for i in range(len(test10)):\n",
    "    X_6_26_test70mpc.append([test70[i][0],test70[i][1],test70[i][2]])\n",
    "X_6_26_test70mpc = np.array(X_6_26_test70mpc)\n",
    "X_6_26_test70mpc.shape\n",
    "np.save('X_6_26_test70mpc.npy', X_6_26_test70mpc)"
   ]
  },
  {
   "cell_type": "code",
   "execution_count": 21,
   "metadata": {},
   "outputs": [],
   "source": [
    "for i in range(len(test10)):\n",
    "    X_6_26_test80mpc.append([test80[i][0],test80[i][1],test80[i][2]])\n",
    "X_6_26_test80mpc = np.array(X_6_26_test80mpc)\n",
    "X_6_26_test80mpc.shape\n",
    "np.save('X_6_26_test80mpc.npy', X_6_26_test80mpc)"
   ]
  },
  {
   "cell_type": "code",
   "execution_count": 22,
   "metadata": {},
   "outputs": [],
   "source": [
    "for i in range(len(test10)):\n",
    "    X_6_26_test90mpc.append([test90[i][0],test90[i][1],test90[i][2]])\n",
    "X_6_26_test90mpc = np.array(X_6_26_test90mpc)\n",
    "X_6_26_test90mpc.shape\n",
    "np.save('X_6_26_test90mpc.npy', X_6_26_test90mpc)"
   ]
  },
  {
   "cell_type": "code",
   "execution_count": 23,
   "metadata": {},
   "outputs": [],
   "source": [
    "for i in range(len(test10)):\n",
    "    X_6_26_test100mpc.append([test100[i][0],test100[i][1],test100[i][2]])\n",
    "X_6_26_test100mpc = np.array(X_6_26_test100mpc)\n",
    "X_6_26_test100mpc.shape\n",
    "np.save('X_6_26_test100mpc.npy', X_6_26_test100mpc)"
   ]
  },
  {
   "cell_type": "code",
   "execution_count": 24,
   "metadata": {},
   "outputs": [],
   "source": [
    "for i in range(len(test150)):\n",
    "    X_6_26_test150mpc.append([test150[i][0],test150[i][1],test150[i][2]])\n",
    "X_6_26_test150mpc = np.array(X_6_26_test150mpc)\n",
    "X_6_26_test150mpc.shape\n",
    "np.save('X_6_26_test150mpc.npy', X_6_26_test150mpc)"
   ]
  },
  {
   "cell_type": "code",
   "execution_count": 7,
   "metadata": {},
   "outputs": [],
   "source": [
    "for i in range(len(test150)):\n",
    "    X_6_26_test200mpc.append([test200[i][0],test200[i][1],test200[i][2]])\n",
    "X_6_26_test200mpc = np.array(X_6_26_test200mpc)\n",
    "X_6_26_test200mpc.shape\n",
    "np.save('X_6_26_test200mpc.npy', X_6_26_test200mpc)"
   ]
  },
  {
   "cell_type": "code",
   "execution_count": null,
   "metadata": {},
   "outputs": [],
   "source": []
  }
 ],
 "metadata": {
  "kernelspec": {
   "display_name": "Python 2",
   "language": "python",
   "name": "python2"
  },
  "language_info": {
   "codemirror_mode": {
    "name": "ipython",
    "version": 2
   },
   "file_extension": ".py",
   "mimetype": "text/x-python",
   "name": "python",
   "nbconvert_exporter": "python",
   "pygments_lexer": "ipython2",
   "version": "2.7.16"
  }
 },
 "nbformat": 4,
 "nbformat_minor": 2
}
