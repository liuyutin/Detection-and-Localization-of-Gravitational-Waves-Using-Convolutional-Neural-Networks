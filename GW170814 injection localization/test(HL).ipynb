{
 "cells": [
  {
   "cell_type": "code",
   "execution_count": 9,
   "metadata": {},
   "outputs": [],
   "source": [
    "import numpy as np\n",
    "from tensorflow.keras import models\n",
    "new_model = models.load_model('CNN_6_29_hl600mpc.h5') # load the model file we have trained before.\n",
    "test_set = np.load('X_injection_real_hl.npy')\n",
    "test_set = np.asarray(test_set, np.float32)\n",
    "test_label = new_model.predict(test_set) \n",
    "test_label = test_label.tolist() #Not huge meaning but make it easier to analyze the labels."
   ]
  },
  {
   "cell_type": "code",
   "execution_count": 10,
   "metadata": {
    "scrolled": true
   },
   "outputs": [
    {
     "name": "stdout",
     "output_type": "stream",
     "text": [
      "[[0.0, 0.0, 0.0, 0.0, 0.0, 0.0, 0.0, 0.0, 0.0, 0.0, 0.0, 0.0, 0.0, 0.0, 0.0, 0.0, 0.0, 0.0, 0.0, 0.0, 0.0, 0.0, 0.0, 0.0, 0.0, 0.0, 0.0, 0.00019120200886391103, 0.0, 0.0, 0.0, 0.0, 0.0, 0.0, 1.6198428154368116e-09, 0.0, 0.0, 6.331911370968366e-25, 0.0, 0.0, 0.0, 0.0, 2.1561201014559887e-37, 0.0, 0.0, 0.0, 0.0, 0.0, 2.4049053511789387e-28, 0.0, 0.0, 0.0, 0.0, 0.0, 0.0, 0.0, 1.7225350106789966e-13, 0.0, 1.0018480389359895e-14, 0.9998088479042053, 0.0, 0.0, 0.0, 0.0, 0.0, 0.0, 0.0, 0.0, 0.0, 0.0, 0.0, 0.0, 0.0, 0.0, 8.554205624149697e-37, 0.0, 0.0, 0.0, 0.0, 0.0, 0.0]]\n",
      "The predicted labels of test set are:\n",
      "[59]\n"
     ]
    }
   ],
   "source": [
    "print(test_label)\n",
    "predict_label = []\n",
    "for i in range(len(test_label)):\n",
    "    predict_label.append(test_label[i].index(max(test_label[i])))\n",
    "    \n",
    "print('The predicted labels of test set are:'+ '\\n' + str(predict_label))"
   ]
  },
  {
   "cell_type": "code",
   "execution_count": 1,
   "metadata": {},
   "outputs": [
    {
     "ename": "SyntaxError",
     "evalue": "invalid syntax (<ipython-input-1-ecef1afa5b7e>, line 1)",
     "output_type": "error",
     "traceback": [
      "\u001b[0;36m  File \u001b[0;32m\"<ipython-input-1-ecef1afa5b7e>\"\u001b[0;36m, line \u001b[0;32m1\u001b[0m\n\u001b[0;31m    label_set =\u001b[0m\n\u001b[0m                ^\u001b[0m\n\u001b[0;31mSyntaxError\u001b[0m\u001b[0;31m:\u001b[0m invalid syntax\n"
     ]
    }
   ],
   "source": [
    "label_set = \n",
    "# REAL RA: 47.7500degree = 0.83339472rad ~ 2pi/9\n",
    "# REAL DEC: -44.9500degree = -0.7845255rad ~ -0.74"
   ]
  },
  {
   "cell_type": "code",
   "execution_count": 6,
   "metadata": {},
   "outputs": [
    {
     "name": "stdout",
     "output_type": "stream",
     "text": [
      "(12960, 3, 2, 11)\n",
      "(12960,)\n"
     ]
    }
   ],
   "source": [
    "X = np.load('X_HLVtest50mpc.npy')\n",
    "X = np.asarray(X, np.float32)\n",
    "Y = label_set\n",
    "\n",
    "print(X.shape)\n",
    "print(Y.shape)\n"
   ]
  },
  {
   "cell_type": "code",
   "execution_count": 7,
   "metadata": {},
   "outputs": [
    {
     "name": "stdout",
     "output_type": "stream",
     "text": [
      "12960/12960 - 1s - loss: 1.7136 - accuracy: 0.8079\n"
     ]
    }
   ],
   "source": [
    "test_loss, test_acc = new_model.evaluate(X, Y, verbose=2)"
   ]
  },
  {
   "cell_type": "code",
   "execution_count": null,
   "metadata": {},
   "outputs": [],
   "source": [
    "# 38 means dec = -0.37, ra  = 4pi/9"
   ]
  },
  {
   "cell_type": "code",
   "execution_count": 5,
   "metadata": {},
   "outputs": [
    {
     "name": "stdout",
     "output_type": "stream",
     "text": [
      "{27: 1}\n"
     ]
    }
   ],
   "source": [
    "# Statistics of the labels that CNN give us.\n",
    "dict = {}\n",
    "for key in predict_label:\n",
    "    dict[key] = dict.get(key, 0) + 1\n",
    "print dict"
   ]
  },
  {
   "cell_type": "code",
   "execution_count": 8,
   "metadata": {},
   "outputs": [],
   "source": [
    "# We can see the first sector and the last have a bad prediction."
   ]
  }
 ],
 "metadata": {
  "kernelspec": {
   "display_name": "Python 2",
   "language": "python",
   "name": "python2"
  },
  "language_info": {
   "codemirror_mode": {
    "name": "ipython",
    "version": 2
   },
   "file_extension": ".py",
   "mimetype": "text/x-python",
   "name": "python",
   "nbconvert_exporter": "python",
   "pygments_lexer": "ipython2",
   "version": "2.7.16"
  }
 },
 "nbformat": 4,
 "nbformat_minor": 2
}
