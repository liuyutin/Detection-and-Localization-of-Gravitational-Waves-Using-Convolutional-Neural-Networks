{
 "cells": [
  {
   "cell_type": "code",
   "execution_count": 1,
   "metadata": {},
   "outputs": [],
   "source": [
    "import tensorflow as tf\n",
    "import pathlib\n",
    "from tensorflow.keras import datasets, layers, models\n",
    "gpu_options = tf.compat.v1.GPUOptions(per_process_gpu_memory_fraction=0.8)\n",
    "import numpy as np"
   ]
  },
  {
   "cell_type": "code",
   "execution_count": 2,
   "metadata": {},
   "outputs": [
    {
     "name": "stdout",
     "output_type": "stream",
     "text": [
      "(12960,)\n"
     ]
    }
   ],
   "source": [
    "sector = 160\n",
    "\n",
    "label_set=np.zeros((sector*81))\n",
    "for i in range(81):\n",
    "    label_set[i*sector:sector*(i+1)] = i\n",
    "print(label_set.shape)"
   ]
  },
  {
   "cell_type": "code",
   "execution_count": 3,
   "metadata": {},
   "outputs": [
    {
     "name": "stdout",
     "output_type": "stream",
     "text": [
      "0.0\n",
      "0.0\n",
      "56.0\n",
      "69.0\n"
     ]
    }
   ],
   "source": [
    "print(label_set[0])\n",
    "print(label_set[1])\n",
    "print(label_set[9000])\n",
    "print(label_set[11111])"
   ]
  },
  {
   "cell_type": "code",
   "execution_count": 4,
   "metadata": {
    "scrolled": false
   },
   "outputs": [
    {
     "name": "stdout",
     "output_type": "stream",
     "text": [
      "(12960, 4, 2, 11)\n",
      "(12960,)\n"
     ]
    }
   ],
   "source": [
    "from sklearn.model_selection import train_test_split\n",
    "X = np.load('X_6_26_train200mpc.npy')\n",
    "X = np.asarray(X, np.float32)\n",
    "#X = tf.convert_to_tensor(X, np.float32)\n",
    "Y = label_set\n",
    "\n",
    "print(X.shape)\n",
    "print(Y.shape)\n",
    "\n",
    "X_train, X_validation, Y_train, Y_validation = train_test_split(X, Y, test_size=0.1) \n",
    "#Use 10 percent of the data to validate the model"
   ]
  },
  {
   "cell_type": "code",
   "execution_count": 5,
   "metadata": {
    "scrolled": true
   },
   "outputs": [],
   "source": [
    "# construct a CNN, Keras used.\n",
    "model = models.Sequential()\n",
    "model.add(layers.Conv2D(11, kernel_size = 1, strides=(1, 1), padding='valid',input_shape = (4,2,11),data_format='channels_first', \n",
    "                        activation='relu'))\n",
    "model.add(layers.MaxPooling2D(pool_size=1, strides=None, data_format='channels_first'))\n",
    "model.add(layers.Conv2D(22, kernel_size = 1, strides=(1, 1), padding='valid',\n",
    "                        activation='relu'))\n",
    "model.add(layers.MaxPooling2D(pool_size=1, strides=None, data_format='channels_first'))\n",
    "model.add(layers.Conv2D(44, kernel_size = 1, strides=(1, 1), padding='valid',\n",
    "                        activation='relu'))\n",
    "model.add(layers.Dropout(0.02, noise_shape=None, seed=None))\n",
    "model.add(layers.MaxPooling2D(pool_size=1, strides=None, data_format='channels_last'))\n",
    "model.add(layers.Flatten())\n",
    "#model.add(layers.Dense(162, activation='relu'))\n",
    "model.add(layers.Dense(81, activation='softmax'))\n",
    "#model.add(layers.Dense(9, activation='softmax'))"
   ]
  },
  {
   "cell_type": "code",
   "execution_count": 6,
   "metadata": {
    "scrolled": false
   },
   "outputs": [
    {
     "name": "stdout",
     "output_type": "stream",
     "text": [
      "Model: \"sequential\"\n",
      "_________________________________________________________________\n",
      "Layer (type)                 Output Shape              Param #   \n",
      "=================================================================\n",
      "conv2d (Conv2D)              (None, 11, 2, 11)         55        \n",
      "_________________________________________________________________\n",
      "max_pooling2d (MaxPooling2D) (None, 11, 2, 11)         0         \n",
      "_________________________________________________________________\n",
      "conv2d_1 (Conv2D)            (None, 11, 2, 22)         264       \n",
      "_________________________________________________________________\n",
      "max_pooling2d_1 (MaxPooling2 (None, 11, 2, 22)         0         \n",
      "_________________________________________________________________\n",
      "conv2d_2 (Conv2D)            (None, 11, 2, 44)         1012      \n",
      "_________________________________________________________________\n",
      "dropout (Dropout)            (None, 11, 2, 44)         0         \n",
      "_________________________________________________________________\n",
      "max_pooling2d_2 (MaxPooling2 (None, 11, 2, 44)         0         \n",
      "_________________________________________________________________\n",
      "flatten (Flatten)            (None, 968)               0         \n",
      "_________________________________________________________________\n",
      "dense (Dense)                (None, 81)                78489     \n",
      "=================================================================\n",
      "Total params: 79,820\n",
      "Trainable params: 79,820\n",
      "Non-trainable params: 0\n",
      "_________________________________________________________________\n"
     ]
    }
   ],
   "source": [
    "#optimizer is Adam, default hyperparameter used. And the CNN architecture can be seen.\n",
    "model.compile(optimizer=tf.keras.optimizers.Adam(0.001),\n",
    "    loss='sparse_categorical_crossentropy',\n",
    "    metrics=[\"accuracy\"])\n",
    "model.summary()"
   ]
  },
  {
   "cell_type": "code",
   "execution_count": 7,
   "metadata": {
    "scrolled": true
   },
   "outputs": [
    {
     "name": "stdout",
     "output_type": "stream",
     "text": [
      "Train on 11664 samples, validate on 1296 samples\n",
      "Epoch 1/50\n",
      "11664/11664 [==============================] - 2s 199us/sample - loss: 2.2386 - accuracy: 0.3990 - val_loss: 1.0852 - val_accuracy: 0.6613\n",
      "Epoch 2/50\n",
      "11664/11664 [==============================] - 1s 85us/sample - loss: 0.7596 - accuracy: 0.7596 - val_loss: 0.5907 - val_accuracy: 0.8102\n",
      "Epoch 3/50\n",
      "11664/11664 [==============================] - 1s 89us/sample - loss: 0.4607 - accuracy: 0.8541 - val_loss: 0.4245 - val_accuracy: 0.8519\n",
      "Epoch 4/50\n",
      "11664/11664 [==============================] - 1s 83us/sample - loss: 0.3232 - accuracy: 0.8927 - val_loss: 0.3210 - val_accuracy: 0.8989\n",
      "Epoch 5/50\n",
      "11664/11664 [==============================] - 1s 96us/sample - loss: 0.2526 - accuracy: 0.9151 - val_loss: 0.2805 - val_accuracy: 0.8958\n",
      "Epoch 6/50\n",
      "11664/11664 [==============================] - 1s 98us/sample - loss: 0.2115 - accuracy: 0.9288 - val_loss: 0.2282 - val_accuracy: 0.9228\n",
      "Epoch 7/50\n",
      "11664/11664 [==============================] - 1s 119us/sample - loss: 0.1689 - accuracy: 0.9428 - val_loss: 0.1777 - val_accuracy: 0.9437\n",
      "Epoch 8/50\n",
      "11664/11664 [==============================] - 1s 112us/sample - loss: 0.1434 - accuracy: 0.9511 - val_loss: 0.1513 - val_accuracy: 0.9506\n",
      "Epoch 9/50\n",
      "11664/11664 [==============================] - 1s 102us/sample - loss: 0.1247 - accuracy: 0.9576 - val_loss: 0.1706 - val_accuracy: 0.9429\n",
      "Epoch 10/50\n",
      "11664/11664 [==============================] - 1s 92us/sample - loss: 0.1249 - accuracy: 0.9601 - val_loss: 0.1283 - val_accuracy: 0.9614\n",
      "Epoch 11/50\n",
      "11664/11664 [==============================] - 1s 92us/sample - loss: 0.1002 - accuracy: 0.9657 - val_loss: 0.1392 - val_accuracy: 0.9545\n",
      "Epoch 12/50\n",
      "11664/11664 [==============================] - 1s 89us/sample - loss: 0.1043 - accuracy: 0.9644 - val_loss: 0.1491 - val_accuracy: 0.9483\n",
      "Epoch 13/50\n",
      "11664/11664 [==============================] - 1s 90us/sample - loss: 0.0842 - accuracy: 0.9712 - val_loss: 0.1187 - val_accuracy: 0.9522\n",
      "Epoch 14/50\n",
      "11664/11664 [==============================] - 1s 99us/sample - loss: 0.0871 - accuracy: 0.9689 - val_loss: 0.1113 - val_accuracy: 0.9622\n",
      "Epoch 15/50\n",
      "11664/11664 [==============================] - 1s 98us/sample - loss: 0.0737 - accuracy: 0.9752 - val_loss: 0.1111 - val_accuracy: 0.9591\n",
      "Epoch 16/50\n",
      "11664/11664 [==============================] - 1s 94us/sample - loss: 0.0861 - accuracy: 0.9719 - val_loss: 0.1132 - val_accuracy: 0.9637\n",
      "Epoch 17/50\n",
      "11664/11664 [==============================] - 1s 93us/sample - loss: 0.0657 - accuracy: 0.9769 - val_loss: 0.1298 - val_accuracy: 0.9599\n",
      "Epoch 18/50\n",
      "11664/11664 [==============================] - 1s 92us/sample - loss: 0.0561 - accuracy: 0.9806 - val_loss: 0.1214 - val_accuracy: 0.9637\n",
      "Epoch 19/50\n",
      "11664/11664 [==============================] - 1s 94us/sample - loss: 0.0646 - accuracy: 0.9796 - val_loss: 0.0951 - val_accuracy: 0.9645\n",
      "Epoch 20/50\n",
      "11664/11664 [==============================] - 1s 92us/sample - loss: 0.0590 - accuracy: 0.9796 - val_loss: 0.0999 - val_accuracy: 0.9653\n",
      "Epoch 21/50\n",
      "11664/11664 [==============================] - 1s 92us/sample - loss: 0.0549 - accuracy: 0.9803 - val_loss: 0.1289 - val_accuracy: 0.9630\n",
      "Epoch 22/50\n",
      "11664/11664 [==============================] - 1s 92us/sample - loss: 0.0523 - accuracy: 0.9821 - val_loss: 0.0903 - val_accuracy: 0.9668\n",
      "Epoch 23/50\n",
      "11664/11664 [==============================] - 1s 89us/sample - loss: 0.0422 - accuracy: 0.9859 - val_loss: 0.0927 - val_accuracy: 0.9707\n",
      "Epoch 24/50\n",
      "11664/11664 [==============================] - 1s 90us/sample - loss: 0.0591 - accuracy: 0.9787 - val_loss: 0.1293 - val_accuracy: 0.9645\n",
      "Epoch 25/50\n",
      "11664/11664 [==============================] - 1s 91us/sample - loss: 0.0516 - accuracy: 0.9833 - val_loss: 0.1053 - val_accuracy: 0.9668\n",
      "Epoch 26/50\n",
      "11664/11664 [==============================] - 1s 93us/sample - loss: 0.0428 - accuracy: 0.9874 - val_loss: 0.0866 - val_accuracy: 0.9761\n",
      "Epoch 27/50\n",
      "11664/11664 [==============================] - 1s 90us/sample - loss: 0.0412 - accuracy: 0.9856 - val_loss: 0.0858 - val_accuracy: 0.9738\n",
      "Epoch 28/50\n",
      "11664/11664 [==============================] - 1s 90us/sample - loss: 0.0449 - accuracy: 0.9853 - val_loss: 0.0911 - val_accuracy: 0.9715\n",
      "Epoch 29/50\n",
      "11664/11664 [==============================] - 1s 90us/sample - loss: 0.0340 - accuracy: 0.9889 - val_loss: 0.0809 - val_accuracy: 0.9715\n",
      "Epoch 30/50\n",
      "11664/11664 [==============================] - 1s 92us/sample - loss: 0.0402 - accuracy: 0.9854 - val_loss: 0.0844 - val_accuracy: 0.9753\n",
      "Epoch 31/50\n",
      "11664/11664 [==============================] - 1s 93us/sample - loss: 0.0319 - accuracy: 0.9894 - val_loss: 0.0852 - val_accuracy: 0.9761\n",
      "Epoch 32/50\n",
      "11664/11664 [==============================] - 1s 92us/sample - loss: 0.0325 - accuracy: 0.9895 - val_loss: 0.1055 - val_accuracy: 0.9645\n",
      "Epoch 33/50\n",
      "11664/11664 [==============================] - 1s 92us/sample - loss: 0.0333 - accuracy: 0.9892 - val_loss: 0.0996 - val_accuracy: 0.9715\n",
      "Epoch 34/50\n",
      "11664/11664 [==============================] - 1s 90us/sample - loss: 0.0437 - accuracy: 0.9854 - val_loss: 0.0917 - val_accuracy: 0.9730\n",
      "Epoch 35/50\n",
      "11664/11664 [==============================] - 1s 92us/sample - loss: 0.0251 - accuracy: 0.9917 - val_loss: 0.0650 - val_accuracy: 0.9830\n",
      "Epoch 36/50\n",
      "11664/11664 [==============================] - 1s 90us/sample - loss: 0.0261 - accuracy: 0.9920 - val_loss: 0.0901 - val_accuracy: 0.9707\n",
      "Epoch 37/50\n",
      "11664/11664 [==============================] - 1s 90us/sample - loss: 0.0288 - accuracy: 0.9910 - val_loss: 0.0749 - val_accuracy: 0.9730\n",
      "Epoch 38/50\n",
      "11664/11664 [==============================] - 1s 90us/sample - loss: 0.0295 - accuracy: 0.9896 - val_loss: 0.0784 - val_accuracy: 0.9792\n",
      "Epoch 39/50\n",
      "11664/11664 [==============================] - 1s 89us/sample - loss: 0.0222 - accuracy: 0.9924 - val_loss: 0.0939 - val_accuracy: 0.9730\n",
      "Epoch 40/50\n",
      "11664/11664 [==============================] - 1s 90us/sample - loss: 0.0346 - accuracy: 0.9885 - val_loss: 0.0844 - val_accuracy: 0.9776\n",
      "Epoch 41/50\n",
      "11664/11664 [==============================] - 1s 90us/sample - loss: 0.0236 - accuracy: 0.9925 - val_loss: 0.0667 - val_accuracy: 0.9823\n",
      "Epoch 42/50\n",
      "11664/11664 [==============================] - 1s 91us/sample - loss: 0.0290 - accuracy: 0.9897 - val_loss: 0.0867 - val_accuracy: 0.9691\n",
      "Epoch 43/50\n",
      "11664/11664 [==============================] - 1s 90us/sample - loss: 0.0200 - accuracy: 0.9947 - val_loss: 0.0867 - val_accuracy: 0.9776\n",
      "Epoch 44/50\n",
      "11664/11664 [==============================] - 1s 90us/sample - loss: 0.0172 - accuracy: 0.9946 - val_loss: 0.1068 - val_accuracy: 0.9699\n",
      "Epoch 45/50\n",
      "11664/11664 [==============================] - 1s 92us/sample - loss: 0.0316 - accuracy: 0.9901 - val_loss: 0.0871 - val_accuracy: 0.9738\n",
      "Epoch 46/50\n",
      "11664/11664 [==============================] - 1s 92us/sample - loss: 0.0224 - accuracy: 0.9926 - val_loss: 0.0764 - val_accuracy: 0.9823\n",
      "Epoch 47/50\n",
      "11664/11664 [==============================] - 1s 92us/sample - loss: 0.0224 - accuracy: 0.9935 - val_loss: 0.0617 - val_accuracy: 0.9869\n",
      "Epoch 48/50\n",
      "11664/11664 [==============================] - 1s 92us/sample - loss: 0.0203 - accuracy: 0.9935 - val_loss: 0.0708 - val_accuracy: 0.9823\n",
      "Epoch 49/50\n",
      "11664/11664 [==============================] - 1s 91us/sample - loss: 0.0253 - accuracy: 0.9915 - val_loss: 0.0953 - val_accuracy: 0.9745\n",
      "Epoch 50/50\n",
      "11664/11664 [==============================] - 1s 89us/sample - loss: 0.0190 - accuracy: 0.9940 - val_loss: 0.0726 - val_accuracy: 0.9823\n"
     ]
    }
   ],
   "source": [
    "# Train the model in 50 epochs.\n",
    "history = model.fit(X_train, Y_train, epochs=50, \n",
    "                    validation_data=(X_validation, Y_validation))"
   ]
  },
  {
   "cell_type": "code",
   "execution_count": 8,
   "metadata": {},
   "outputs": [],
   "source": [
    "# Save the model as a h5 file, accessable when testing.\n",
    "model.save('CNN_6_26_200mpc.h5')"
   ]
  },
  {
   "cell_type": "code",
   "execution_count": 12,
   "metadata": {},
   "outputs": [
    {
     "data": {
      "text/plain": [
       "<Figure size 1600x1000 with 2 Axes>"
      ]
     },
     "metadata": {},
     "output_type": "display_data"
    }
   ],
   "source": [
    "import matplotlib.pyplot as plt\n",
    "#visualize the train&validation process\n",
    "acc = history.history['accuracy']\n",
    "val_acc = history.history['val_accuracy']\n",
    "\n",
    "loss = history.history['loss']\n",
    "val_loss = history.history['val_loss']\n",
    "\n",
    "epochs_range = range(50)\n",
    "\n",
    "plt.figure(figsize=(16, 10))\n",
    "plt.subplot(1, 2, 1)\n",
    "plt.plot(epochs_range, acc, label='Training Accuracy')\n",
    "plt.plot(epochs_range, val_acc, label='Validation Accuracy')\n",
    "plt.legend(loc='lower right')\n",
    "plt.title('Training and Validation Accuracy')\n",
    "\n",
    "plt.subplot(1, 2, 2)\n",
    "plt.plot(epochs_range, loss, label='Training Loss')\n",
    "plt.plot(epochs_range, val_loss, label='Validation Loss')\n",
    "plt.legend(loc='upper right')\n",
    "plt.title('Training and Validation Loss')\n",
    "plt.show()\n"
   ]
  },
  {
   "cell_type": "code",
   "execution_count": null,
   "metadata": {},
   "outputs": [],
   "source": []
  }
 ],
 "metadata": {
  "kernelspec": {
   "display_name": "Python 2",
   "language": "python",
   "name": "python2"
  },
  "language_info": {
   "codemirror_mode": {
    "name": "ipython",
    "version": 2
   },
   "file_extension": ".py",
   "mimetype": "text/x-python",
   "name": "python",
   "nbconvert_exporter": "python",
   "pygments_lexer": "ipython2",
   "version": "2.7.16"
  }
 },
 "nbformat": 4,
 "nbformat_minor": 2
}
