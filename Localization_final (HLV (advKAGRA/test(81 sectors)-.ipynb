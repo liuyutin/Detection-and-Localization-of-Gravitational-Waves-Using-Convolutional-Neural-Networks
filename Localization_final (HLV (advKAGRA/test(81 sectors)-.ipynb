{
 "cells": [
  {
   "cell_type": "code",
   "execution_count": 9,
   "metadata": {},
   "outputs": [],
   "source": [
    "import numpy as np\n",
    "from tensorflow.keras import models\n",
    "new_model = models.load_model('CNN_6_26_150mpc.h5') # load the model file we have trained before.\n",
    "test_set = np.load('X_6_26_test200mpc.npy')\n",
    "test_set = np.asarray(test_set, np.float32)\n",
    "test_label = new_model.predict(test_set) \n",
    "test_label = test_label.tolist() #Not huge meaning but make it easier to analyze the labels."
   ]
  },
  {
   "cell_type": "code",
   "execution_count": 10,
   "metadata": {},
   "outputs": [
    {
     "name": "stdout",
     "output_type": "stream",
     "text": [
      "(12960,)\n"
     ]
    }
   ],
   "source": [
    "sector = 160\n",
    "\n",
    "label_set=np.zeros((sector*81))\n",
    "for i in range(81):\n",
    "    label_set[i*sector:sector*(i+1)] = i\n",
    "print(label_set.shape)"
   ]
  },
  {
   "cell_type": "code",
   "execution_count": 11,
   "metadata": {},
   "outputs": [
    {
     "name": "stdout",
     "output_type": "stream",
     "text": [
      "(12960, 4, 2, 11)\n",
      "(12960,)\n"
     ]
    }
   ],
   "source": [
    "X = np.load('X_6_26_test200mpc.npy')\n",
    "X = np.asarray(X, np.float32)\n",
    "Y = label_set\n",
    "\n",
    "print(X.shape)\n",
    "print(Y.shape)\n"
   ]
  },
  {
   "cell_type": "code",
   "execution_count": 12,
   "metadata": {},
   "outputs": [
    {
     "name": "stdout",
     "output_type": "stream",
     "text": [
      "12960/12960 - 1s - loss: 621.6594 - accuracy: 0.0685\n"
     ]
    }
   ],
   "source": [
    "test_loss, test_acc = new_model.evaluate(X, Y, verbose=2)"
   ]
  },
  {
   "cell_type": "code",
   "execution_count": 3,
   "metadata": {
    "scrolled": true
   },
   "outputs": [
    {
     "name": "stdout",
     "output_type": "stream",
     "text": [
      "[[0.0, 0.0, 1.2762971240026258e-34, 0.0, 1.153240773393283e-34, 0.0, 0.0, 0.0, 0.0, 1.0025353198832486e-24, 0.0, 0.0, 0.0, 0.0, 0.0, 0.0, 0.0, 0.0, 2.4122834263971826e-14, 0.0, 0.0, 0.0, 1.3522690704303008e-31, 0.0, 0.0, 0.0, 6.445932578498386e-37, 0.0, 7.988718153317067e-36, 0.0, 0.0, 0.0, 0.0, 1.081003406895625e-20, 0.0, 9.190194386609786e-20, 0.0, 0.0, 1.5523243606445766e-17, 0.0, 0.0, 0.0, 0.0, 6.436613908533673e-09, 1.1857099287310926e-37, 0.0, 0.0, 0.0, 0.0, 4.9104435554965165e-18, 2.2250305245721357e-22, 0.0, 0.0, 0.0, 0.0, 0.0, 0.0, 0.0, 3.6694457244813394e-16, 1.0, 0.0, 0.0, 0.0, 0.0, 0.0, 0.0, 0.0, 1.6777476989006282e-15, 1.7921910615579855e-15, 0.0, 0.0, 0.0, 0.0, 0.0, 6.154814990999569e-10, 0.0, 6.085418469104285e-25, 4.867823371549715e-27, 9.288735023578293e-21, 0.0, 0.0]]\n",
      "The predicted labels of test set are:\n",
      "[59]\n"
     ]
    }
   ],
   "source": [
    "print(test_label[0:1])\n",
    "predict_label = []\n",
    "for i in range(len(test_label)):\n",
    "    predict_label.append(test_label[i].index(max(test_label[i])))\n",
    "    \n",
    "print('The predicted labels of test set are:'+ '\\n' + str(predict_label))"
   ]
  },
  {
   "cell_type": "code",
   "execution_count": 6,
   "metadata": {},
   "outputs": [
    {
     "name": "stdout",
     "output_type": "stream",
     "text": [
      "{0: 2, 1: 10, 2: 5, 3: 6, 4: 16, 5: 9, 6: 15, 7: 7, 8: 7, 9: 13, 10: 9, 11: 15, 12: 10, 13: 17, 14: 11, 15: 9, 16: 17, 17: 4, 18: 12, 19: 16, 20: 2, 21: 12, 22: 13, 23: 16, 24: 12, 25: 9, 26: 11, 27: 13, 28: 15, 29: 17, 30: 16, 31: 9, 32: 21, 33: 9, 34: 11, 35: 8, 36: 16, 37: 14, 38: 9, 39: 18, 40: 8, 41: 14, 42: 12, 43: 10, 44: 10, 45: 18, 46: 6, 47: 13, 48: 22, 49: 15, 50: 11, 51: 9, 52: 3, 53: 12, 54: 17, 55: 10, 56: 10, 57: 12, 58: 20, 59: 8, 60: 8, 61: 15, 62: 9, 63: 7, 64: 4, 65: 12, 66: 8, 67: 6, 68: 8, 69: 12, 70: 28, 71: 13, 72: 10, 73: 15, 74: 13, 75: 18, 76: 20, 77: 8, 78: 14, 79: 31, 80: 12}\n"
     ]
    }
   ],
   "source": [
    "# Statistics of the labels that CNN give us.\n",
    "dict = {}\n",
    "for key in predict_label:\n",
    "    dict[key] = dict.get(key, 0) + 1\n",
    "print dict"
   ]
  },
  {
   "cell_type": "code",
   "execution_count": 31,
   "metadata": {},
   "outputs": [
    {
     "name": "stdout",
     "output_type": "stream",
     "text": [
      "0.0\n",
      "480/480 - 0s - loss: 0.8295 - accuracy: 0.8208\n",
      "1.0\n",
      "480/480 - 0s - loss: 0.3018 - accuracy: 0.9000\n",
      "2.0\n",
      "480/480 - 0s - loss: 0.9853 - accuracy: 0.7292\n",
      "3.0\n",
      "480/480 - 0s - loss: 0.9933 - accuracy: 0.7875\n",
      "4.0\n",
      "480/480 - 0s - loss: 2.2093 - accuracy: 0.5104\n",
      "5.0\n",
      "480/480 - 0s - loss: 3.1049 - accuracy: 0.5229\n",
      "6.0\n",
      "480/480 - 0s - loss: 9.3805 - accuracy: 0.1083\n",
      "7.0\n",
      "480/480 - 0s - loss: 1.1702 - accuracy: 0.7354\n",
      "8.0\n",
      "480/480 - 0s - loss: 0.4999 - accuracy: 0.9021\n",
      "9.0\n",
      "480/480 - 0s - loss: 1.2482 - accuracy: 0.8417\n",
      "10.0\n",
      "480/480 - 0s - loss: 0.0845 - accuracy: 0.9875\n",
      "11.0\n",
      "480/480 - 0s - loss: 0.0539 - accuracy: 0.9792\n",
      "12.0\n",
      "480/480 - 0s - loss: 8.8263 - accuracy: 0.0792\n",
      "13.0\n",
      "480/480 - 0s - loss: 1.9851 - accuracy: 0.7625\n",
      "14.0\n",
      "480/480 - 0s - loss: 1.5718 - accuracy: 0.7979\n",
      "15.0\n",
      "480/480 - 0s - loss: 9.1501 - accuracy: 0.3208\n",
      "16.0\n",
      "480/480 - 0s - loss: 2.1332 - accuracy: 0.7583\n",
      "17.0\n",
      "480/480 - 0s - loss: 0.7024 - accuracy: 0.8667\n",
      "18.0\n",
      "480/480 - 0s - loss: 0.1155 - accuracy: 0.9708\n",
      "19.0\n",
      "480/480 - 0s - loss: 8.2959 - accuracy: 0.1604\n",
      "20.0\n",
      "480/480 - 0s - loss: 24.7111 - accuracy: 0.0042\n",
      "21.0\n",
      "480/480 - 0s - loss: 28.4225 - accuracy: 0.0000e+00\n",
      "22.0\n",
      "480/480 - 0s - loss: 0.0670 - accuracy: 0.9875\n",
      "23.0\n",
      "480/480 - 0s - loss: 2.7321 - accuracy: 0.6896\n",
      "24.0\n",
      "480/480 - 0s - loss: 0.1641 - accuracy: 0.9604\n",
      "25.0\n",
      "480/480 - 0s - loss: 9.1247 - accuracy: 0.2125\n",
      "26.0\n",
      "480/480 - 0s - loss: 19.9881 - accuracy: 0.0437\n",
      "27.0\n",
      "480/480 - 0s - loss: 5.9409 - accuracy: 0.4000\n",
      "28.0\n",
      "480/480 - 0s - loss: 14.7450 - accuracy: 0.1083\n",
      "29.0\n",
      "480/480 - 0s - loss: 31.8009 - accuracy: 0.0042\n",
      "30.0\n",
      "480/480 - 0s - loss: 6.4440 - accuracy: 0.4875\n",
      "31.0\n",
      "480/480 - 0s - loss: 8.6303 - accuracy: 0.2917\n",
      "32.0\n",
      "480/480 - 0s - loss: 11.7590 - accuracy: 0.1521\n",
      "33.0\n",
      "480/480 - 0s - loss: 15.3506 - accuracy: 0.0000e+00\n",
      "34.0\n",
      "480/480 - 0s - loss: 1.1749 - accuracy: 0.8708\n",
      "35.0\n",
      "480/480 - 0s - loss: 4.7928 - accuracy: 0.3458\n",
      "36.0\n",
      "480/480 - 0s - loss: 0.6022 - accuracy: 0.9292\n",
      "37.0\n",
      "480/480 - 0s - loss: 27.1119 - accuracy: 0.0000e+00\n",
      "38.0\n",
      "480/480 - 0s - loss: 33.3761 - accuracy: 0.0063\n",
      "39.0\n",
      "480/480 - 0s - loss: 14.3909 - accuracy: 0.2208\n",
      "40.0\n",
      "480/480 - 0s - loss: 3.5527 - accuracy: 0.5500\n",
      "41.0\n",
      "480/480 - 0s - loss: 44.7553 - accuracy: 0.0104\n",
      "42.0\n",
      "480/480 - 0s - loss: 40.5566 - accuracy: 0.0000e+00\n",
      "43.0\n",
      "480/480 - 0s - loss: 9.5478 - accuracy: 0.1417\n",
      "44.0\n",
      "480/480 - 0s - loss: 7.1823 - accuracy: 0.3812\n",
      "45.0\n",
      "480/480 - 0s - loss: 0.5863 - accuracy: 0.9333\n",
      "46.0\n",
      "480/480 - 0s - loss: 8.2828 - accuracy: 0.2708\n",
      "47.0\n",
      "480/480 - 0s - loss: 9.1692 - accuracy: 0.2146\n",
      "48.0\n",
      "480/480 - 0s - loss: 34.8705 - accuracy: 0.0042\n",
      "49.0\n",
      "480/480 - 0s - loss: 0.3539 - accuracy: 0.9625\n",
      "50.0\n",
      "480/480 - 0s - loss: 24.6040 - accuracy: 0.0000e+00\n",
      "51.0\n",
      "480/480 - 0s - loss: 4.2638 - accuracy: 0.4958\n",
      "52.0\n",
      "480/480 - 0s - loss: 14.0518 - accuracy: 0.0646\n",
      "53.0\n",
      "480/480 - 0s - loss: 0.7745 - accuracy: 0.8708\n",
      "54.0\n",
      "480/480 - 0s - loss: 10.5913 - accuracy: 0.3125\n",
      "55.0\n",
      "480/480 - 0s - loss: 17.5678 - accuracy: 0.1417\n",
      "56.0\n",
      "480/480 - 0s - loss: 6.9784 - accuracy: 0.0958\n",
      "57.0\n",
      "480/480 - 0s - loss: 10.7608 - accuracy: 0.0917\n",
      "58.0\n",
      "480/480 - 0s - loss: 4.8124 - accuracy: 0.4396\n",
      "59.0\n",
      "480/480 - 0s - loss: 4.1543 - accuracy: 0.3708\n",
      "60.0\n",
      "480/480 - 0s - loss: 22.5093 - accuracy: 0.0271\n",
      "61.0\n",
      "480/480 - 0s - loss: 2.1932 - accuracy: 0.5271\n",
      "62.0\n",
      "480/480 - 0s - loss: 2.1612 - accuracy: 0.6646\n",
      "63.0\n",
      "480/480 - 0s - loss: 7.8616 - accuracy: 0.3292\n",
      "64.0\n",
      "480/480 - 0s - loss: 8.0806 - accuracy: 0.3750\n",
      "65.0\n",
      "480/480 - 0s - loss: 0.3097 - accuracy: 0.9312\n",
      "66.0\n",
      "480/480 - 0s - loss: 1.2684 - accuracy: 0.7958\n",
      "67.0\n",
      "480/480 - 0s - loss: 0.1683 - accuracy: 0.9604\n",
      "68.0\n",
      "480/480 - 0s - loss: 0.2131 - accuracy: 0.9521\n",
      "69.0\n",
      "480/480 - 0s - loss: 8.7930 - accuracy: 0.0938\n",
      "70.0\n",
      "480/480 - 0s - loss: 6.2044 - accuracy: 0.0667\n",
      "71.0\n",
      "480/480 - 0s - loss: 1.2864 - accuracy: 0.7375\n",
      "72.0\n",
      "480/480 - 0s - loss: 1.1116 - accuracy: 0.6812\n",
      "73.0\n",
      "480/480 - 0s - loss: 1.6338 - accuracy: 0.5625\n",
      "74.0\n",
      "480/480 - 0s - loss: 0.5000 - accuracy: 0.9062\n",
      "75.0\n",
      "480/480 - 0s - loss: 11.4781 - accuracy: 0.0229\n",
      "76.0\n",
      "480/480 - 0s - loss: 3.9904 - accuracy: 0.3167\n",
      "77.0\n",
      "480/480 - 0s - loss: 4.8304 - accuracy: 0.1896\n",
      "78.0\n",
      "480/480 - 0s - loss: 0.7412 - accuracy: 0.8375\n",
      "79.0\n",
      "480/480 - 0s - loss: 3.2887 - accuracy: 0.2104\n",
      "80.0\n",
      "480/480 - 0s - loss: 1.7529 - accuracy: 0.6000\n"
     ]
    }
   ],
   "source": [
    "test_loss_skysector = []\n",
    "test_acc_skysector = []\n",
    "for i in range(81):\n",
    "    print(Y[sector*i])\n",
    "    test_loss_temp, test_acc_temp = (new_model.evaluate(X[sector*i:sector*(i+1)], Y[sector*i:sector*(i+1)], verbose=2))\n",
    "    test_loss_skysector.append(test_loss_temp)\n",
    "    test_acc_skysector.append(test_acc_temp)"
   ]
  },
  {
   "cell_type": "code",
   "execution_count": 8,
   "metadata": {},
   "outputs": [],
   "source": [
    "# We can see the first sector and the last have a bad prediction."
   ]
  }
 ],
 "metadata": {
  "kernelspec": {
   "display_name": "Python 2",
   "language": "python",
   "name": "python2"
  },
  "language_info": {
   "codemirror_mode": {
    "name": "ipython",
    "version": 2
   },
   "file_extension": ".py",
   "mimetype": "text/x-python",
   "name": "python",
   "nbconvert_exporter": "python",
   "pygments_lexer": "ipython2",
   "version": "2.7.16"
  }
 },
 "nbformat": 4,
 "nbformat_minor": 2
}
